{
 "cells": [
  {
   "cell_type": "code",
   "execution_count": 4,
   "metadata": {},
   "outputs": [
    {
     "ename": "ImportError",
     "evalue": "Unable to import required dependencies:\nnumpy: No module named 'numpy'",
     "output_type": "error",
     "traceback": [
      "\u001b[1;31m---------------------------------------------------------------------------\u001b[0m",
      "\u001b[1;31mImportError\u001b[0m                               Traceback (most recent call last)",
      "\u001b[1;32m<ipython-input-4-b47bdd8dda5c>\u001b[0m in \u001b[0;36m<module>\u001b[1;34m\u001b[0m\n\u001b[0;32m      1\u001b[0m \u001b[1;31m# Import libraries\u001b[0m\u001b[1;33m\u001b[0m\u001b[1;33m\u001b[0m\u001b[1;33m\u001b[0m\u001b[0m\n\u001b[1;32m----> 2\u001b[1;33m \u001b[1;32mfrom\u001b[0m \u001b[0mpandas\u001b[0m \u001b[1;32mimport\u001b[0m \u001b[0mread_csv\u001b[0m\u001b[1;33m\u001b[0m\u001b[1;33m\u001b[0m\u001b[0m\n\u001b[0m\u001b[0;32m      3\u001b[0m \u001b[1;32mfrom\u001b[0m \u001b[0mpandas\u001b[0m\u001b[1;33m.\u001b[0m\u001b[0mplotting\u001b[0m \u001b[1;32mimport\u001b[0m \u001b[0mscatter_matrix\u001b[0m\u001b[1;33m\u001b[0m\u001b[1;33m\u001b[0m\u001b[0m\n\u001b[0;32m      4\u001b[0m \u001b[1;32mfrom\u001b[0m \u001b[0mmatplotlib\u001b[0m \u001b[1;32mimport\u001b[0m \u001b[0mpyplot\u001b[0m \u001b[1;32mas\u001b[0m \u001b[0mplt\u001b[0m\u001b[1;33m\u001b[0m\u001b[1;33m\u001b[0m\u001b[0m\n\u001b[0;32m      5\u001b[0m \u001b[1;32mfrom\u001b[0m \u001b[0msklearn\u001b[0m\u001b[1;33m.\u001b[0m\u001b[0mmodel_selection\u001b[0m \u001b[1;32mimport\u001b[0m \u001b[0mtrain_test_split\u001b[0m\u001b[1;33m\u001b[0m\u001b[1;33m\u001b[0m\u001b[0m\n",
      "\u001b[1;32m~\\anaconda3\\lib\\site-packages\\pandas\\__init__.py\u001b[0m in \u001b[0;36m<module>\u001b[1;34m\u001b[0m\n\u001b[0;32m     14\u001b[0m \u001b[1;33m\u001b[0m\u001b[0m\n\u001b[0;32m     15\u001b[0m \u001b[1;32mif\u001b[0m \u001b[0mmissing_dependencies\u001b[0m\u001b[1;33m:\u001b[0m\u001b[1;33m\u001b[0m\u001b[1;33m\u001b[0m\u001b[0m\n\u001b[1;32m---> 16\u001b[1;33m     raise ImportError(\n\u001b[0m\u001b[0;32m     17\u001b[0m         \u001b[1;34m\"Unable to import required dependencies:\\n\"\u001b[0m \u001b[1;33m+\u001b[0m \u001b[1;34m\"\\n\"\u001b[0m\u001b[1;33m.\u001b[0m\u001b[0mjoin\u001b[0m\u001b[1;33m(\u001b[0m\u001b[0mmissing_dependencies\u001b[0m\u001b[1;33m)\u001b[0m\u001b[1;33m\u001b[0m\u001b[1;33m\u001b[0m\u001b[0m\n\u001b[0;32m     18\u001b[0m     )\n",
      "\u001b[1;31mImportError\u001b[0m: Unable to import required dependencies:\nnumpy: No module named 'numpy'"
     ]
    }
   ],
   "source": [
    "# Import libraries\n",
    "from pandas import read_csv\n",
    "from pandas.plotting import scatter_matrix\n",
    "from matplotlib import pyplot as plt\n",
    "from sklearn.model_selection import train_test_split\n",
    "from sklearn.model_selection import cross_val_score\n",
    "from sklearn.model_selection import StratifiedKFold\n",
    "from sklearn.metrics import classification_report\n",
    "from sklearn.metrics import confusion_matrix\n",
    "from sklearn.metrics import accuracy_score\n",
    "from sklearn.neighbors import KNeighborsClassifier\n",
    "from sklearn.naive_bayes import GaussianNB\n",
    "from sklearn.naive_bayes import CategoricalNB\n",
    "from sklearn.svm import SVC"
   ]
  },
  {
   "cell_type": "code",
   "execution_count": null,
   "metadata": {},
   "outputs": [],
   "source": []
  },
  {
   "cell_type": "code",
   "execution_count": 5,
   "metadata": {
    "collapsed": true
   },
   "outputs": [
    {
     "name": "stdout",
     "output_type": "stream",
     "text": [
      "filename\n",
      "length\n",
      "chroma_stft_mean\n",
      "chroma_stft_var\n",
      "rms_mean\n",
      "rms_var\n",
      "spectral_centroid_mean\n",
      "spectral_centroid_var\n",
      "spectral_bandwidth_mean\n",
      "spectral_bandwidth_var\n",
      "rolloff_mean\n",
      "rolloff_var\n",
      "zero_crossing_rate_mean\n",
      "zero_crossing_rate_var\n",
      "harmony_mean\n",
      "harmony_var\n",
      "perceptr_mean\n",
      "perceptr_var\n",
      "tempo\n",
      "mfcc1_mean\n",
      "mfcc1_var\n",
      "mfcc2_mean\n",
      "mfcc2_var\n",
      "mfcc3_mean\n",
      "mfcc3_var\n",
      "mfcc4_mean\n",
      "mfcc4_var\n",
      "mfcc5_mean\n",
      "mfcc5_var\n",
      "mfcc6_mean\n",
      "mfcc6_var\n",
      "mfcc7_mean\n",
      "mfcc7_var\n",
      "mfcc8_mean\n",
      "mfcc8_var\n",
      "mfcc9_mean\n",
      "mfcc9_var\n",
      "mfcc10_mean\n",
      "mfcc10_var\n",
      "mfcc11_mean\n",
      "mfcc11_var\n",
      "mfcc12_mean\n",
      "mfcc12_var\n",
      "mfcc13_mean\n",
      "mfcc13_var\n",
      "mfcc14_mean\n",
      "mfcc14_var\n",
      "mfcc15_mean\n",
      "mfcc15_var\n",
      "mfcc16_mean\n",
      "mfcc16_var\n",
      "mfcc17_mean\n",
      "mfcc17_var\n",
      "mfcc18_mean\n",
      "mfcc18_var\n",
      "mfcc19_mean\n",
      "mfcc19_var\n",
      "mfcc20_mean\n",
      "mfcc20_var\n",
      "label\n"
     ]
    }
   ],
   "source": [
    "# Load dataset\n",
    "import pandas as pd\n",
    "\n",
    "names = []\n",
    "dataset = pd.read_csv(\"music.csv\")\n",
    "\n",
    "#print(dataset.head())\n",
    "\n",
    "\n",
    "\n",
    "for col in dataset.columns:\n",
    "    print(col)\n"
   ]
  },
  {
   "cell_type": "code",
   "execution_count": 10,
   "metadata": {},
   "outputs": [],
   "source": [
    "dataset = dataset.drop(['filename'], axis = 1)"
   ]
  },
  {
   "cell_type": "code",
   "execution_count": 11,
   "metadata": {},
   "outputs": [
    {
     "name": "stdout",
     "output_type": "stream",
     "text": [
      "length\n",
      "chroma_stft_mean\n",
      "chroma_stft_var\n",
      "rms_mean\n",
      "rms_var\n",
      "spectral_centroid_mean\n",
      "spectral_centroid_var\n",
      "spectral_bandwidth_mean\n",
      "spectral_bandwidth_var\n",
      "rolloff_mean\n",
      "rolloff_var\n",
      "zero_crossing_rate_mean\n",
      "zero_crossing_rate_var\n",
      "harmony_mean\n",
      "harmony_var\n",
      "perceptr_mean\n",
      "perceptr_var\n",
      "tempo\n",
      "mfcc1_mean\n",
      "mfcc1_var\n",
      "mfcc2_mean\n",
      "mfcc2_var\n",
      "mfcc3_mean\n",
      "mfcc3_var\n",
      "mfcc4_mean\n",
      "mfcc4_var\n",
      "mfcc5_mean\n",
      "mfcc5_var\n",
      "mfcc6_mean\n",
      "mfcc6_var\n",
      "mfcc7_mean\n",
      "mfcc7_var\n",
      "mfcc8_mean\n",
      "mfcc8_var\n",
      "mfcc9_mean\n",
      "mfcc9_var\n",
      "mfcc10_mean\n",
      "mfcc10_var\n",
      "mfcc11_mean\n",
      "mfcc11_var\n",
      "mfcc12_mean\n",
      "mfcc12_var\n",
      "mfcc13_mean\n",
      "mfcc13_var\n",
      "mfcc14_mean\n",
      "mfcc14_var\n",
      "mfcc15_mean\n",
      "mfcc15_var\n",
      "mfcc16_mean\n",
      "mfcc16_var\n",
      "mfcc17_mean\n",
      "mfcc17_var\n",
      "mfcc18_mean\n",
      "mfcc18_var\n",
      "mfcc19_mean\n",
      "mfcc19_var\n",
      "mfcc20_mean\n",
      "mfcc20_var\n",
      "label\n"
     ]
    }
   ],
   "source": [
    "for col in dataset.columns:\n",
    "    print(col)"
   ]
  },
  {
   "cell_type": "code",
   "execution_count": null,
   "metadata": {},
   "outputs": [],
   "source": [
    "#add new audio file?\n",
    "\n"
   ]
  },
  {
   "cell_type": "code",
   "execution_count": 13,
   "metadata": {},
   "outputs": [
    {
     "name": "stdout",
     "output_type": "stream",
     "text": [
      "label\n",
      "blues        100\n",
      "classical    100\n",
      "country      100\n",
      "disco        100\n",
      "hiphop       100\n",
      "jazz         100\n",
      "metal        100\n",
      "pop          100\n",
      "reggae       100\n",
      "rock         100\n",
      "dtype: int64\n"
     ]
    }
   ],
   "source": [
    "#class distribution\n",
    "\n",
    "print(dataset.groupby('label').size())"
   ]
  },
  {
   "cell_type": "code",
   "execution_count": 14,
   "metadata": {
    "collapsed": true
   },
   "outputs": [
    {
     "name": "stdout",
     "output_type": "stream",
     "text": [
      "              length  chroma_stft_mean  chroma_stft_var     rms_mean  \\\n",
      "count    1000.000000       1000.000000      1000.000000  1000.000000   \n",
      "mean   662030.846000          0.378682         0.086340     0.130930   \n",
      "std      1784.073992          0.081705         0.007735     0.065683   \n",
      "min    660000.000000          0.171939         0.044555     0.005276   \n",
      "25%    661504.000000          0.319562         0.082298     0.086657   \n",
      "50%    661794.000000          0.383148         0.086615     0.122443   \n",
      "75%    661794.000000          0.435942         0.091256     0.175682   \n",
      "max    675808.000000          0.663685         0.108111     0.397973   \n",
      "\n",
      "           rms_var  spectral_centroid_mean  spectral_centroid_var  \\\n",
      "count  1000.000000             1000.000000           1.000000e+03   \n",
      "mean      0.003051             2201.780898           4.696916e+05   \n",
      "std       0.003634              715.960600           4.008995e+05   \n",
      "min       0.000004              570.040355           7.911251e+03   \n",
      "25%       0.000942             1627.697311           1.843505e+05   \n",
      "50%       0.001816             2209.263090           3.384862e+05   \n",
      "75%       0.003577             2691.294667           6.121479e+05   \n",
      "max       0.027679             4435.243901           3.036843e+06   \n",
      "\n",
      "       spectral_bandwidth_mean  spectral_bandwidth_var  rolloff_mean  ...  \\\n",
      "count              1000.000000             1000.000000   1000.000000  ...   \n",
      "mean               2242.541070           137079.155165   4571.549304  ...   \n",
      "std                 526.316473            96455.666326   1574.791602  ...   \n",
      "min                 898.066208            10787.185064    749.140636  ...   \n",
      "25%                1907.240605            67376.554428   3380.069642  ...   \n",
      "50%                2221.392843           111977.548036   4658.524473  ...   \n",
      "75%                2578.469836           182371.576801   5533.810460  ...   \n",
      "max                3509.646417           694784.811549   8677.672688  ...   \n",
      "\n",
      "       mfcc16_mean   mfcc16_var  mfcc17_mean   mfcc17_var  mfcc18_mean  \\\n",
      "count  1000.000000  1000.000000  1000.000000  1000.000000  1000.000000   \n",
      "mean      1.148144    60.730958    -3.966028    62.633624     0.507696   \n",
      "std       4.578948    33.781951     4.549697    33.479172     3.869105   \n",
      "min     -15.693844     9.169314   -17.234728    13.931521   -11.963694   \n",
      "25%      -1.863280    40.376442    -7.207225    40.830875    -2.007015   \n",
      "50%       1.212809    52.325077    -4.065605    54.717674     0.669643   \n",
      "75%       4.359662    71.691755    -0.838737    75.040838     3.119212   \n",
      "max      13.457150   392.932373    11.482946   406.058868    15.388390   \n",
      "\n",
      "        mfcc18_var  mfcc19_mean   mfcc19_var  mfcc20_mean   mfcc20_var  \n",
      "count  1000.000000  1000.000000  1000.000000  1000.000000  1000.000000  \n",
      "mean     63.712586    -2.328761    66.231930    -1.095348    70.126096  \n",
      "std      34.401977     3.755957    37.174631     3.837007    45.228512  \n",
      "min      15.420555   -18.501955    13.487622   -19.929634     7.956583  \n",
      "25%      41.884240    -4.662925    41.710184    -3.368996    42.372865  \n",
      "50%      54.804890    -2.393862    57.423059    -1.166289    59.186117  \n",
      "75%      75.385832     0.150573    78.626444     1.312615    85.375374  \n",
      "max     332.905426    14.694924   393.161987    15.369627   506.065155  \n",
      "\n",
      "[8 rows x 58 columns]\n"
     ]
    }
   ],
   "source": [
    "#statistical summary\n",
    "\n",
    "print(dataset.describe())"
   ]
  },
  {
   "cell_type": "code",
   "execution_count": 16,
   "metadata": {
    "collapsed": true
   },
   "outputs": [
    {
     "data": {
      "image/png": "[encoded data removed]",
      "text/plain": [
       "<Figure size 432x288 with 64 Axes>"
      ]
     },
     "metadata": {
      "needs_background": "light"
     },
     "output_type": "display_data"
    }
   ],
   "source": [
    "#data visualization\n",
    "\n",
    "dataset.hist()\n",
    "plt.show()"
   ]
  },
  {
   "cell_type": "code",
   "execution_count": 22,
   "metadata": {},
   "outputs": [
    {
     "name": "stdout",
     "output_type": "stream",
     "text": [
      "59\n"
     ]
    }
   ],
   "source": [
    "print(len(array[0]))\n",
    "#column count is 59 "
   ]
  },
  {
   "cell_type": "code",
   "execution_count": 121,
   "metadata": {},
   "outputs": [],
   "source": [
    "#create test dataset\n",
    "\n",
    "array = dataset.values\n",
    "X = array[:,0:58]\n",
    "Y = array[:,58]\n",
    "\n",
    "validation_size = 0.55\n",
    "\n",
    "X_train, X_test, Y_train, Y_test = train_test_split(X, Y, test_size = validation_size, random_state = 1, shuffle = True)"
   ]
  },
  {
   "cell_type": "code",
   "execution_count": 122,
   "metadata": {},
   "outputs": [
    {
     "name": "stdout",
     "output_type": "stream",
     "text": [
      "KNN: 0.228889 (0.038233)\n",
      "NB: 0.411111 (0.037185)\n",
      "SVM: 0.251111 (0.038873)\n"
     ]
    }
   ],
   "source": [
    "\n",
    "models = []\n",
    "models.append(('KNN', KNeighborsClassifier()))\n",
    "models.append(('NB', GaussianNB()))\n",
    "models.append(('SVM', SVC()))\n",
    "\n",
    "results = []\n",
    "names = []\n",
    "for name, model in models:\n",
    "  kfold = StratifiedKFold(n_splits=5, random_state=1, shuffle=True)\n",
    "  cv_results = cross_val_score(model, X_train, Y_train, cv=kfold, scoring='accuracy')\n",
    "  results.append(cv_results)\n",
    "  names.append(name)\n",
    "  print('%s: %f (%f)' % (name, cv_results.mean(), cv_results.std()))\n"
   ]
  },
  {
   "cell_type": "code",
   "execution_count": 123,
   "metadata": {},
   "outputs": [
    {
     "name": "stdout",
     "output_type": "stream",
     "text": [
      "Total accuracy: 0.44181818181818183\n",
      "Total wrong: 307\n",
      "Total right: 243\n"
     ]
    }
   ],
   "source": [
    "clf = GaussianNB()\n",
    "clf.fit(X_train, Y_train)\n",
    "\n",
    "predictions = clf.predict(X_test)\n",
    "\n",
    "wrong = 0\n",
    "for x in range(len(predictions)):\n",
    "    if predictions[x] == Y_test[x]:\n",
    "        #print(\"correct\")\n",
    "        continue\n",
    "    else:\n",
    "        wrong += 1\n",
    "accuracy = (len(Y_test)-wrong) / len(Y_test)\n",
    "print(\"Total accuracy: \" + str(accuracy))\n",
    "print(\"Total wrong: \" + str(wrong))\n",
    "right = len(Y_test) - wrong\n",
    "print(\"Total right: \" + str(right))\n",
    "\n",
    "    "
   ]
  },
  {
   "cell_type": "code",
   "execution_count": 41,
   "metadata": {
    "collapsed": true
   },
   "outputs": [
    {
     "name": "stdout",
     "output_type": "stream",
     "text": [
      "0.28\n",
      "[[ 7  2  3  0  2  3  1  0  0  2]\n",
      " [ 2 11  0  1  0  1  5  0  1  0]\n",
      " [ 4  1  6  5  1  0  0  0  1  2]\n",
      " [ 1  0  1  5  2  0  2  0  1  1]\n",
      " [ 2  0  2  4  3  0  0  3  5  3]\n",
      " [ 5  4  4  3  0  7  2  1  1  1]\n",
      " [ 3  4  3  2  3  0  2  0  1  2]\n",
      " [ 0  0  1  6  2  0  0  8  2  1]\n",
      " [ 3  1  1  1  2  1  0  1  5  2]\n",
      " [ 2  1  1  4  0  2  6  0  1  2]]\n",
      "              precision    recall  f1-score   support\n",
      "\n",
      "       blues       0.24      0.35      0.29        20\n",
      "   classical       0.46      0.52      0.49        21\n",
      "     country       0.27      0.30      0.29        20\n",
      "       disco       0.16      0.38      0.23        13\n",
      "      hiphop       0.20      0.14      0.16        22\n",
      "        jazz       0.50      0.25      0.33        28\n",
      "       metal       0.11      0.10      0.11        20\n",
      "         pop       0.62      0.40      0.48        20\n",
      "      reggae       0.28      0.29      0.29        17\n",
      "        rock       0.12      0.11      0.11        19\n",
      "\n",
      "    accuracy                           0.28       200\n",
      "   macro avg       0.30      0.28      0.28       200\n",
      "weighted avg       0.31      0.28      0.28       200\n",
      "\n"
     ]
    }
   ],
   "source": [
    "knn = KNeighborsClassifier()\n",
    "knn.fit(X_train, Y_train)\n",
    "predictions = knn.predict(X_test)\n",
    "print(accuracy_score(Y_test, predictions))\n",
    "print(confusion_matrix(Y_test, predictions))\n",
    "print(classification_report(Y_test, predictions))"
   ]
  },
  {
   "cell_type": "code",
   "execution_count": 60,
   "metadata": {},
   "outputs": [],
   "source": [
    "#for testing with guassian use minmaxscaler\n",
    "\n",
    "from sklearn.preprocessing import MinMaxScaler #fixed import\n",
    "\n",
    "scaler = MinMaxScaler()\n",
    "X_train_c = scaler.fit_transform(X_train)\n",
    "X_test_c = scaler.fit_transform(X_test)"
   ]
  },
  {
   "cell_type": "code",
   "execution_count": 58,
   "metadata": {},
   "outputs": [
    {
     "name": "stdout",
     "output_type": "stream",
     "text": [
      "16.0\n"
     ]
    }
   ],
   "source": [
    "clf = CategoricalNB()\n",
    "clf.fit(X_train_c, Y_train)\n",
    "accuracy = round(clf.score(X_train_c,Y_train)*100,2)\n",
    "print(accuracy)"
   ]
  },
  {
   "cell_type": "code",
   "execution_count": 81,
   "metadata": {},
   "outputs": [
    {
     "name": "stdout",
     "output_type": "stream",
     "text": [
      "0.047185205330428914\n",
      "0.9999999\n",
      "0.9999999\n",
      "0.9999999\n",
      "0.9999999\n",
      "0.9999999\n",
      "0.9999999\n",
      "0.9999999\n",
      "0.9999999\n",
      "0.9999999\n",
      "0.9999999\n",
      "0.9999999\n",
      "0.9999999\n",
      "0.9999999\n",
      "0.9999999\n",
      "0.9999999\n",
      "0.9999999\n",
      "0.9999999\n",
      "0.9999999\n",
      "0.9999999\n",
      "0.9999999\n",
      "0.9999999\n",
      "0.9999999\n",
      "0.9999999\n",
      "0.9999999\n",
      "0.9999999\n",
      "0.9999999\n",
      "0.9999999\n",
      "0.9999999\n",
      "0.9999999\n",
      "0.9999999\n",
      "0.9999999\n",
      "0.9999999\n",
      "0.9999999\n",
      "0.9999999\n",
      "0.9999999\n",
      "0.9999999\n",
      "0.9999999\n",
      "0.9999999\n",
      "0.9999999\n",
      "0.9999999\n",
      "0.9999999\n",
      "0.9999999\n",
      "0.9999999\n",
      "[array([0.9999999 , 0.        , 0.6978418 , 0.2731704 , 0.10243902,\n",
      "       0.13846495, 0.0374334 , 0.12951902, 0.09012575, 0.12128605,\n",
      "       0.07695533, 0.16913151, 0.02912314, 0.31582029, 0.15557662,\n",
      "       0.5408179 , 0.01455011, 0.04081633, 0.46088402, 0.11262131,\n",
      "       0.70576061, 0.34062722, 0.54976651, 0.35490578, 0.47282548,\n",
      "       0.21428863, 0.33543596, 0.08652168, 0.53207802, 0.13710852,\n",
      "       0.40926993, 0.20777379, 0.22497972, 0.10461416, 0.50602687,\n",
      "       0.1635269 , 0.18668068, 0.31122726, 0.6690821 , 0.26968902,\n",
      "       0.68865483, 0.85118699, 0.86813992, 0.66173669, 0.57593868,\n",
      "       0.83831632, 0.58964565, 0.99999   , 0.4873473 , 1.        ,\n",
      "       0.52086462, 1.        , 0.34211313, 0.99999   , 0.43455064,\n",
      "       0.99999   , 0.5029679 , 0.87035566])]\n"
     ]
    }
   ],
   "source": [
    "col = 0\n",
    "row = 0\n",
    "for row in range(len(X_test_c)):\n",
    "    for val in X_test_c[row]:\n",
    "        if val == 1:\n",
    "            print(X_test_c[0][col])\n",
    "            X_test_c[0][col] = 0.9999999\n",
    "        cnt += 1\n",
    "        \n",
    "    col = 0\n",
    "\n",
    "print([X_test_c[0]])"
   ]
  },
  {
   "cell_type": "code",
   "execution_count": 84,
   "metadata": {},
   "outputs": [
    {
     "name": "stdout",
     "output_type": "stream",
     "text": [
      "['disco']\n",
      "jazz\n",
      "\n",
      "\n",
      "['disco']\n",
      "reggae\n",
      "\n",
      "\n",
      "['disco']\n",
      "hiphop\n",
      "\n",
      "\n",
      "['disco']\n",
      "disco\n",
      "\n",
      "\n",
      "['disco']\n",
      "country\n",
      "\n",
      "\n",
      "['disco']\n",
      "rock\n",
      "\n",
      "\n",
      "['disco']\n",
      "country\n",
      "\n",
      "\n",
      "['disco']\n",
      "reggae\n",
      "\n",
      "\n",
      "['disco']\n",
      "disco\n",
      "\n",
      "\n",
      "['blues']\n",
      "blues\n",
      "\n",
      "\n",
      "['disco']\n",
      "hiphop\n",
      "\n",
      "\n",
      "['disco']\n",
      "classical\n",
      "\n",
      "\n",
      "['disco']\n",
      "rock\n",
      "\n",
      "\n",
      "['disco']\n",
      "disco\n",
      "\n",
      "\n",
      "['disco']\n",
      "rock\n",
      "\n",
      "\n",
      "['disco']\n",
      "classical\n",
      "\n",
      "\n",
      "['disco']\n",
      "classical\n",
      "\n",
      "\n"
     ]
    },
    {
     "ename": "IndexError",
     "evalue": "index 1 is out of bounds for axis 1 with size 1",
     "output_type": "error",
     "traceback": [
      "\u001b[1;31m---------------------------------------------------------------------------\u001b[0m",
      "\u001b[1;31mIndexError\u001b[0m                                Traceback (most recent call last)",
      "Input \u001b[1;32mIn [84]\u001b[0m, in \u001b[0;36m<cell line: 1>\u001b[1;34m()\u001b[0m\n\u001b[0;32m      1\u001b[0m \u001b[38;5;28;01mfor\u001b[39;00m x \u001b[38;5;129;01min\u001b[39;00m \u001b[38;5;28mrange\u001b[39m(\u001b[38;5;28mlen\u001b[39m(Y_test)):\n\u001b[1;32m----> 2\u001b[0m     \u001b[38;5;28mprint\u001b[39m(\u001b[43mclf\u001b[49m\u001b[38;5;241;43m.\u001b[39;49m\u001b[43mpredict\u001b[49m\u001b[43m(\u001b[49m\u001b[43m[\u001b[49m\u001b[43mX_test_c\u001b[49m\u001b[43m[\u001b[49m\u001b[43mx\u001b[49m\u001b[43m]\u001b[49m\u001b[43m]\u001b[49m\u001b[43m)\u001b[49m)\n\u001b[0;32m      3\u001b[0m     \u001b[38;5;28mprint\u001b[39m(Y_test[x])\n\u001b[0;32m      4\u001b[0m     \u001b[38;5;28mprint\u001b[39m(\u001b[38;5;124m'\u001b[39m\u001b[38;5;130;01m\\n\u001b[39;00m\u001b[38;5;124m'\u001b[39m)\n",
      "File \u001b[1;32mF:\\Python\\virtual\\environment\\lib\\site-packages\\sklearn\\naive_bayes.py:81\u001b[0m, in \u001b[0;36m_BaseNB.predict\u001b[1;34m(self, X)\u001b[0m\n\u001b[0;32m     79\u001b[0m check_is_fitted(\u001b[38;5;28mself\u001b[39m)\n\u001b[0;32m     80\u001b[0m X \u001b[38;5;241m=\u001b[39m \u001b[38;5;28mself\u001b[39m\u001b[38;5;241m.\u001b[39m_check_X(X)\n\u001b[1;32m---> 81\u001b[0m jll \u001b[38;5;241m=\u001b[39m \u001b[38;5;28;43mself\u001b[39;49m\u001b[38;5;241;43m.\u001b[39;49m\u001b[43m_joint_log_likelihood\u001b[49m\u001b[43m(\u001b[49m\u001b[43mX\u001b[49m\u001b[43m)\u001b[49m\n\u001b[0;32m     82\u001b[0m \u001b[38;5;28;01mreturn\u001b[39;00m \u001b[38;5;28mself\u001b[39m\u001b[38;5;241m.\u001b[39mclasses_[np\u001b[38;5;241m.\u001b[39margmax(jll, axis\u001b[38;5;241m=\u001b[39m\u001b[38;5;241m1\u001b[39m)]\n",
      "File \u001b[1;32mF:\\Python\\virtual\\environment\\lib\\site-packages\\sklearn\\naive_bayes.py:1425\u001b[0m, in \u001b[0;36mCategoricalNB._joint_log_likelihood\u001b[1;34m(self, X)\u001b[0m\n\u001b[0;32m   1423\u001b[0m \u001b[38;5;28;01mfor\u001b[39;00m i \u001b[38;5;129;01min\u001b[39;00m \u001b[38;5;28mrange\u001b[39m(\u001b[38;5;28mself\u001b[39m\u001b[38;5;241m.\u001b[39mn_features_in_):\n\u001b[0;32m   1424\u001b[0m     indices \u001b[38;5;241m=\u001b[39m X[:, i]\n\u001b[1;32m-> 1425\u001b[0m     jll \u001b[38;5;241m+\u001b[39m\u001b[38;5;241m=\u001b[39m \u001b[38;5;28;43mself\u001b[39;49m\u001b[38;5;241;43m.\u001b[39;49m\u001b[43mfeature_log_prob_\u001b[49m\u001b[43m[\u001b[49m\u001b[43mi\u001b[49m\u001b[43m]\u001b[49m\u001b[43m[\u001b[49m\u001b[43m:\u001b[49m\u001b[43m,\u001b[49m\u001b[43m \u001b[49m\u001b[43mindices\u001b[49m\u001b[43m]\u001b[49m\u001b[38;5;241m.\u001b[39mT\n\u001b[0;32m   1426\u001b[0m total_ll \u001b[38;5;241m=\u001b[39m jll \u001b[38;5;241m+\u001b[39m \u001b[38;5;28mself\u001b[39m\u001b[38;5;241m.\u001b[39mclass_log_prior_\n\u001b[0;32m   1427\u001b[0m \u001b[38;5;28;01mreturn\u001b[39;00m total_ll\n",
      "\u001b[1;31mIndexError\u001b[0m: index 1 is out of bounds for axis 1 with size 1"
     ]
    }
   ],
   "source": [
    "for x in range(len(Y_test)):\n",
    "    print(clf.predict([X_test_c[x]]))\n",
    "    print(Y_test[x])\n",
    "    print('\\n')\n"
   ]
  }
 ],
 "metadata": {
  "kernelspec": {
   "display_name": "Python 3",
   "language": "python",
   "name": "python3"
  },
  "language_info": {
   "codemirror_mode": {
    "name": "ipython",
    "version": 3
   },
   "file_extension": ".py",
   "mimetype": "text/x-python",
   "name": "python",
   "nbconvert_exporter": "python",
   "pygments_lexer": "ipython3",
   "version": "3.8.5"
  }
 },
 "nbformat": 4,
 "nbformat_minor": 5
}
